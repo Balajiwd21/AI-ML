{
 "cells": [
  {
   "cell_type": "code",
   "execution_count": 15,
   "metadata": {},
   "outputs": [],
   "source": [
    "from statsmodels.tsa.arima.model import ARIMA\n",
    "import pandas as pd\n",
    "import matplotlib.pyplot as plt"
   ]
  },
  {
   "cell_type": "code",
   "execution_count": 21,
   "metadata": {},
   "outputs": [],
   "source": [
    "data=pd.read_csv('TESLA.csv',index_col='Date')"
   ]
  },
  {
   "cell_type": "code",
   "execution_count": 22,
   "metadata": {},
   "outputs": [
    {
     "data": {
      "text/html": [
       "<div>\n",
       "<style scoped>\n",
       "    .dataframe tbody tr th:only-of-type {\n",
       "        vertical-align: middle;\n",
       "    }\n",
       "\n",
       "    .dataframe tbody tr th {\n",
       "        vertical-align: top;\n",
       "    }\n",
       "\n",
       "    .dataframe thead th {\n",
       "        text-align: right;\n",
       "    }\n",
       "</style>\n",
       "<table border=\"1\" class=\"dataframe\">\n",
       "  <thead>\n",
       "    <tr style=\"text-align: right;\">\n",
       "      <th></th>\n",
       "      <th>Open</th>\n",
       "      <th>High</th>\n",
       "      <th>Low</th>\n",
       "      <th>Close</th>\n",
       "      <th>Adj Close</th>\n",
       "      <th>Volume</th>\n",
       "    </tr>\n",
       "    <tr>\n",
       "      <th>Date</th>\n",
       "      <th></th>\n",
       "      <th></th>\n",
       "      <th></th>\n",
       "      <th></th>\n",
       "      <th></th>\n",
       "      <th></th>\n",
       "    </tr>\n",
       "  </thead>\n",
       "  <tbody>\n",
       "    <tr>\n",
       "      <th>2021-09-29</th>\n",
       "      <td>259.933319</td>\n",
       "      <td>264.500000</td>\n",
       "      <td>256.893341</td>\n",
       "      <td>260.436676</td>\n",
       "      <td>260.436676</td>\n",
       "      <td>62828700</td>\n",
       "    </tr>\n",
       "    <tr>\n",
       "      <th>2021-09-30</th>\n",
       "      <td>260.333344</td>\n",
       "      <td>263.043335</td>\n",
       "      <td>258.333344</td>\n",
       "      <td>258.493347</td>\n",
       "      <td>258.493347</td>\n",
       "      <td>53868000</td>\n",
       "    </tr>\n",
       "    <tr>\n",
       "      <th>2021-10-01</th>\n",
       "      <td>259.466675</td>\n",
       "      <td>260.260010</td>\n",
       "      <td>254.529999</td>\n",
       "      <td>258.406677</td>\n",
       "      <td>258.406677</td>\n",
       "      <td>51094200</td>\n",
       "    </tr>\n",
       "    <tr>\n",
       "      <th>2021-10-04</th>\n",
       "      <td>265.500000</td>\n",
       "      <td>268.989990</td>\n",
       "      <td>258.706665</td>\n",
       "      <td>260.510010</td>\n",
       "      <td>260.510010</td>\n",
       "      <td>91449900</td>\n",
       "    </tr>\n",
       "    <tr>\n",
       "      <th>2021-10-05</th>\n",
       "      <td>261.600006</td>\n",
       "      <td>265.769989</td>\n",
       "      <td>258.066681</td>\n",
       "      <td>260.196655</td>\n",
       "      <td>260.196655</td>\n",
       "      <td>55297800</td>\n",
       "    </tr>\n",
       "    <tr>\n",
       "      <th>2021-10-06</th>\n",
       "      <td>258.733337</td>\n",
       "      <td>262.220001</td>\n",
       "      <td>257.739990</td>\n",
       "      <td>260.916656</td>\n",
       "      <td>260.916656</td>\n",
       "      <td>43898400</td>\n",
       "    </tr>\n",
       "    <tr>\n",
       "      <th>2021-10-07</th>\n",
       "      <td>261.820007</td>\n",
       "      <td>268.333344</td>\n",
       "      <td>261.126678</td>\n",
       "      <td>264.536682</td>\n",
       "      <td>264.536682</td>\n",
       "      <td>57587400</td>\n",
       "    </tr>\n",
       "    <tr>\n",
       "      <th>2021-10-08</th>\n",
       "      <td>265.403320</td>\n",
       "      <td>265.459991</td>\n",
       "      <td>260.303345</td>\n",
       "      <td>261.829987</td>\n",
       "      <td>261.829987</td>\n",
       "      <td>50215800</td>\n",
       "    </tr>\n",
       "    <tr>\n",
       "      <th>2021-10-11</th>\n",
       "      <td>262.549988</td>\n",
       "      <td>267.079987</td>\n",
       "      <td>261.833344</td>\n",
       "      <td>263.980011</td>\n",
       "      <td>263.980011</td>\n",
       "      <td>42600900</td>\n",
       "    </tr>\n",
       "    <tr>\n",
       "      <th>2021-10-12</th>\n",
       "      <td>266.976654</td>\n",
       "      <td>270.773346</td>\n",
       "      <td>265.523346</td>\n",
       "      <td>268.573334</td>\n",
       "      <td>268.573334</td>\n",
       "      <td>66060000</td>\n",
       "    </tr>\n",
       "  </tbody>\n",
       "</table>\n",
       "</div>"
      ],
      "text/plain": [
       "                  Open        High         Low       Close   Adj Close  \\\n",
       "Date                                                                     \n",
       "2021-09-29  259.933319  264.500000  256.893341  260.436676  260.436676   \n",
       "2021-09-30  260.333344  263.043335  258.333344  258.493347  258.493347   \n",
       "2021-10-01  259.466675  260.260010  254.529999  258.406677  258.406677   \n",
       "2021-10-04  265.500000  268.989990  258.706665  260.510010  260.510010   \n",
       "2021-10-05  261.600006  265.769989  258.066681  260.196655  260.196655   \n",
       "2021-10-06  258.733337  262.220001  257.739990  260.916656  260.916656   \n",
       "2021-10-07  261.820007  268.333344  261.126678  264.536682  264.536682   \n",
       "2021-10-08  265.403320  265.459991  260.303345  261.829987  261.829987   \n",
       "2021-10-11  262.549988  267.079987  261.833344  263.980011  263.980011   \n",
       "2021-10-12  266.976654  270.773346  265.523346  268.573334  268.573334   \n",
       "\n",
       "              Volume  \n",
       "Date                  \n",
       "2021-09-29  62828700  \n",
       "2021-09-30  53868000  \n",
       "2021-10-01  51094200  \n",
       "2021-10-04  91449900  \n",
       "2021-10-05  55297800  \n",
       "2021-10-06  43898400  \n",
       "2021-10-07  57587400  \n",
       "2021-10-08  50215800  \n",
       "2021-10-11  42600900  \n",
       "2021-10-12  66060000  "
      ]
     },
     "execution_count": 22,
     "metadata": {},
     "output_type": "execute_result"
    }
   ],
   "source": [
    "data.head(10)"
   ]
  },
  {
   "cell_type": "code",
   "execution_count": 23,
   "metadata": {},
   "outputs": [
    {
     "data": {
      "text/plain": [
       "Index(['Open', 'High', 'Low', 'Close', 'Adj Close', 'Volume'], dtype='object')"
      ]
     },
     "execution_count": 23,
     "metadata": {},
     "output_type": "execute_result"
    }
   ],
   "source": [
    "data.columns"
   ]
  },
  {
   "cell_type": "code",
   "execution_count": 24,
   "metadata": {},
   "outputs": [
    {
     "data": {
      "text/plain": [
       "(253, 6)"
      ]
     },
     "execution_count": 24,
     "metadata": {},
     "output_type": "execute_result"
    }
   ],
   "source": [
    "data.shape"
   ]
  },
  {
   "cell_type": "markdown",
   "metadata": {},
   "source": [
    "4. Time Series Modeling Techniques\n",
    "Here are some common models used in stock prediction:\n",
    "\n",
    "ARIMA (Auto-Regressive Integrated Moving Average): Useful for capturing patterns in stationary data.\n",
    "AR (Auto-Regressive): Uses past values to predict the future.\n",
    "I (Integrated): Makes the series stationary by differencing.\n",
    "MA (Moving Average): Uses past forecast errors to improve the prediction.\n",
    "ARIMA Order: (p, d, q), where p is the number of autoregressive terms, d is the differencing order, and q is the moving average order.\n",
    "LSTM (Long Short-Term Memory): A neural network model that captures long-term dependencies, often useful for non-stationary data like stock prices.\n",
    "Prophet: A model developed by Facebook for forecasting with seasonality. It’s useful for daily, weekly, and yearly patterns but may be less effective with high-frequency (minute-level) stock data."
   ]
  },
  {
   "cell_type": "markdown",
   "metadata": {},
   "source": [
    "The above is usefull if u forgot no worries read it again u r human homie\n",
    " "
   ]
  },
  {
   "cell_type": "code",
   "execution_count": 25,
   "metadata": {},
   "outputs": [
    {
     "name": "stderr",
     "output_type": "stream",
     "text": [
      "C:\\Users\\balaji.pn\\AppData\\Local\\Programs\\Python\\Python311\\Lib\\site-packages\\statsmodels\\tsa\\base\\tsa_model.py:473: ValueWarning: A date index has been provided, but it has no associated frequency information and so will be ignored when e.g. forecasting.\n",
      "  self._init_dates(dates, freq)\n",
      "C:\\Users\\balaji.pn\\AppData\\Local\\Programs\\Python\\Python311\\Lib\\site-packages\\statsmodels\\tsa\\base\\tsa_model.py:473: ValueWarning: A date index has been provided, but it has no associated frequency information and so will be ignored when e.g. forecasting.\n",
      "  self._init_dates(dates, freq)\n",
      "C:\\Users\\balaji.pn\\AppData\\Local\\Programs\\Python\\Python311\\Lib\\site-packages\\statsmodels\\tsa\\base\\tsa_model.py:473: ValueWarning: A date index has been provided, but it has no associated frequency information and so will be ignored when e.g. forecasting.\n",
      "  self._init_dates(dates, freq)\n",
      "C:\\Users\\balaji.pn\\AppData\\Local\\Programs\\Python\\Python311\\Lib\\site-packages\\statsmodels\\tsa\\base\\tsa_model.py:837: ValueWarning: No supported index is available. Prediction results will be given with an integer index beginning at `start`.\n",
      "  return get_prediction_index(\n",
      "C:\\Users\\balaji.pn\\AppData\\Local\\Programs\\Python\\Python311\\Lib\\site-packages\\statsmodels\\tsa\\base\\tsa_model.py:837: FutureWarning: No supported index is available. In the next version, calling this method in a model without a supported index will result in an exception.\n",
      "  return get_prediction_index(\n"
     ]
    },
    {
     "data": {
      "image/png": "[encoded data removed]",
      "text/plain": [
       "<Figure size 640x480 with 1 Axes>"
      ]
     },
     "metadata": {},
     "output_type": "display_data"
    }
   ],
   "source": [
    "close_prices = data['Close']\n",
    "\n",
    "# Differencing for stationarity\n",
    "diff_prices = close_prices.diff().dropna()\n",
    "\n",
    "# Fit ARIMA model\n",
    "model = ARIMA(diff_prices, order=(1, 1, 1))\n",
    "model_fit = model.fit()\n",
    "\n",
    "forecast = model_fit.forecast(steps=30)\n",
    "plt.plot(close_prices, label='Original')\n",
    "plt.plot(forecast.cumsum() + close_prices.iloc[-1], label='Forecast', color='red')\n",
    "plt.legend()\n",
    "plt.show()\n"
   ]
  },
  {
   "cell_type": "code",
   "execution_count": 13,
   "metadata": {},
   "outputs": [
    {
     "name": "stdout",
     "output_type": "stream",
     "text": [
      "Collecting statsmodels\n",
      "  Downloading statsmodels-0.14.4-cp311-cp311-win_amd64.whl.metadata (9.5 kB)\n",
      "Requirement already satisfied: numpy<3,>=1.22.3 in c:\\users\\balaji.pn\\appdata\\local\\programs\\python\\python311\\lib\\site-packages (from statsmodels) (1.26.4)\n",
      "Requirement already satisfied: scipy!=1.9.2,>=1.8 in c:\\users\\balaji.pn\\appdata\\local\\programs\\python\\python311\\lib\\site-packages (from statsmodels) (1.14.0)\n",
      "Requirement already satisfied: pandas!=2.1.0,>=1.4 in c:\\users\\balaji.pn\\appdata\\local\\programs\\python\\python311\\lib\\site-packages (from statsmodels) (2.2.2)\n",
      "Collecting patsy>=0.5.6 (from statsmodels)\n",
      "  Downloading patsy-0.5.6-py2.py3-none-any.whl.metadata (3.5 kB)\n",
      "Requirement already satisfied: packaging>=21.3 in c:\\users\\balaji.pn\\appdata\\roaming\\python\\python311\\site-packages (from statsmodels) (24.1)\n",
      "Requirement already satisfied: python-dateutil>=2.8.2 in c:\\users\\balaji.pn\\appdata\\roaming\\python\\python311\\site-packages (from pandas!=2.1.0,>=1.4->statsmodels) (2.9.0.post0)\n",
      "Requirement already satisfied: pytz>=2020.1 in c:\\users\\balaji.pn\\appdata\\local\\programs\\python\\python311\\lib\\site-packages (from pandas!=2.1.0,>=1.4->statsmodels) (2024.1)\n",
      "Requirement already satisfied: tzdata>=2022.7 in c:\\users\\balaji.pn\\appdata\\local\\programs\\python\\python311\\lib\\site-packages (from pandas!=2.1.0,>=1.4->statsmodels) (2024.1)\n",
      "Requirement already satisfied: six in c:\\users\\balaji.pn\\appdata\\roaming\\python\\python311\\site-packages (from patsy>=0.5.6->statsmodels) (1.16.0)\n",
      "Downloading statsmodels-0.14.4-cp311-cp311-win_amd64.whl (9.9 MB)\n",
      "   ---------------------------------------- 0.0/9.9 MB ? eta -:--:--\n",
      "   ---------------------------------------- 0.1/9.9 MB 2.6 MB/s eta 0:00:04\n",
      "    --------------------------------------- 0.2/9.9 MB 3.1 MB/s eta 0:00:04\n",
      "   -- ------------------------------------- 0.5/9.9 MB 3.7 MB/s eta 0:00:03\n",
      "   --- ------------------------------------ 0.9/9.9 MB 4.9 MB/s eta 0:00:02\n",
      "   ---- ----------------------------------- 1.2/9.9 MB 5.4 MB/s eta 0:00:02\n",
      "   ------ --------------------------------- 1.6/9.9 MB 6.1 MB/s eta 0:00:02\n",
      "   ------- -------------------------------- 2.0/9.9 MB 6.3 MB/s eta 0:00:02\n",
      "   ---------- ----------------------------- 2.5/9.9 MB 6.6 MB/s eta 0:00:02\n",
      "   ----------- ---------------------------- 2.8/9.9 MB 6.6 MB/s eta 0:00:02\n",
      "   ------------- -------------------------- 3.3/9.9 MB 7.2 MB/s eta 0:00:01\n",
      "   -------------- ------------------------- 3.6/9.9 MB 7.2 MB/s eta 0:00:01\n",
      "   ---------------- ----------------------- 4.1/9.9 MB 7.4 MB/s eta 0:00:01\n",
      "   ----------------- ---------------------- 4.3/9.9 MB 7.5 MB/s eta 0:00:01\n",
      "   ------------------- -------------------- 4.8/9.9 MB 7.4 MB/s eta 0:00:01\n",
      "   -------------------- ------------------- 5.1/9.9 MB 7.5 MB/s eta 0:00:01\n",
      "   ---------------------- ----------------- 5.7/9.9 MB 7.7 MB/s eta 0:00:01\n",
      "   ------------------------ --------------- 5.9/9.9 MB 7.7 MB/s eta 0:00:01\n",
      "   -------------------------- ------------- 6.4/9.9 MB 7.8 MB/s eta 0:00:01\n",
      "   --------------------------- ------------ 6.7/9.9 MB 7.8 MB/s eta 0:00:01\n",
      "   ----------------------------- ---------- 7.2/9.9 MB 7.8 MB/s eta 0:00:01\n",
      "   ------------------------------ --------- 7.5/9.9 MB 7.8 MB/s eta 0:00:01\n",
      "   -------------------------------- ------- 8.0/9.9 MB 7.9 MB/s eta 0:00:01\n",
      "   ---------------------------------- ----- 8.4/9.9 MB 7.9 MB/s eta 0:00:01\n",
      "   ----------------------------------- ---- 8.8/9.9 MB 8.0 MB/s eta 0:00:01\n",
      "   ------------------------------------- -- 9.1/9.9 MB 7.9 MB/s eta 0:00:01\n",
      "   ---------------------------------------  9.6/9.9 MB 8.0 MB/s eta 0:00:01\n",
      "   ---------------------------------------  9.9/9.9 MB 8.1 MB/s eta 0:00:01\n",
      "   ---------------------------------------- 9.9/9.9 MB 7.8 MB/s eta 0:00:00\n",
      "Downloading patsy-0.5.6-py2.py3-none-any.whl (233 kB)\n",
      "   ---------------------------------------- 0.0/233.9 kB ? eta -:--:--\n",
      "   ---------------------------------------- 233.9/233.9 kB 7.0 MB/s eta 0:00:00\n",
      "Installing collected packages: patsy, statsmodels\n",
      "Successfully installed patsy-0.5.6 statsmodels-0.14.4\n"
     ]
    },
    {
     "name": "stderr",
     "output_type": "stream",
     "text": [
      "\n",
      "[notice] A new release of pip is available: 24.0 -> 24.3.1\n",
      "[notice] To update, run: python.exe -m pip install --upgrade pip\n"
     ]
    }
   ],
   "source": [
    "!pip install statsmodels"
   ]
  },
  {
   "cell_type": "code",
   "execution_count": null,
   "metadata": {},
   "outputs": [],
   "source": []
  }
 ],
 "metadata": {
  "kernelspec": {
   "display_name": "Python 3",
   "language": "python",
   "name": "python3"
  },
  "language_info": {
   "codemirror_mode": {
    "name": "ipython",
    "version": 3
   },
   "file_extension": ".py",
   "mimetype": "text/x-python",
   "name": "python",
   "nbconvert_exporter": "python",
   "pygments_lexer": "ipython3",
   "version": "3.11.9"
  },
  "orig_nbformat": 4
 },
 "nbformat": 4,
 "nbformat_minor": 2
}
